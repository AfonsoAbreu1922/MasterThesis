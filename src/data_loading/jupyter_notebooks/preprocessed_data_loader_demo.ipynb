{
 "cells": [
  {
   "cell_type": "markdown",
   "id": "9193de9e",
   "metadata": {},
   "source": [
    "# -------------------------------------------  General info  -------------------------------------------"
   ]
  },
  {
   "cell_type": "markdown",
   "id": "16698545",
   "metadata": {},
   "source": [
    " - **What is this Jupyter notebook:** A script to test the preprocessed data loader\n",
    " - **How to run the script:** Follow the steps in the *Python code* section bellow"
   ]
  },
  {
   "cell_type": "markdown",
   "id": "64917bbb",
   "metadata": {},
   "source": [
    "# -------------------------------------------  Python code  -------------------------------------------"
   ]
  },
  {
   "cell_type": "markdown",
   "id": "c9e8c561",
   "metadata": {},
   "source": [
    "# Steps to run the script"
   ]
  },
  {
   "cell_type": "markdown",
   "id": "45fcf0d2",
   "metadata": {},
   "source": [
    "## 1. Set the config variables\n",
    "\n",
    "Set the config variables in *config/data/preprocessed/loader/lidc_idri_preprocessed_data_loader.yaml*"
   ]
  },
  {
   "cell_type": "markdown",
   "id": "e6210785",
   "metadata": {},
   "source": [
    "## 2. Run the script below \n",
    "The output will be the loaded data info"
   ]
  },
  {
   "cell_type": "code",
   "execution_count": 1,
   "id": "24d7773c",
   "metadata": {
    "scrolled": false
   },
   "outputs": [
    {
     "ename": "ModuleNotFoundError",
     "evalue": "No module named 'hydra'",
     "output_type": "error",
     "traceback": [
      "\u001b[1;31m---------------------------------------------------------------------------\u001b[0m",
      "\u001b[1;31mModuleNotFoundError\u001b[0m                       Traceback (most recent call last)",
      "Cell \u001b[1;32mIn[1], line 2\u001b[0m\n\u001b[0;32m      1\u001b[0m \u001b[38;5;28;01mfrom\u001b[39;00m \u001b[38;5;21;01mos\u001b[39;00m\u001b[38;5;21;01m.\u001b[39;00m\u001b[38;5;21;01mpath\u001b[39;00m \u001b[38;5;28;01mimport\u001b[39;00m abspath, dirname, join\n\u001b[1;32m----> 2\u001b[0m \u001b[38;5;28;01mimport\u001b[39;00m \u001b[38;5;21;01mhydra\u001b[39;00m\n\u001b[0;32m      3\u001b[0m \u001b[38;5;28;01mimport\u001b[39;00m \u001b[38;5;21;01msys\u001b[39;00m\n\u001b[0;32m      4\u001b[0m sys\u001b[38;5;241m.\u001b[39mpath\u001b[38;5;241m.\u001b[39mappend(abspath(join(dirname(\u001b[38;5;124m'\u001b[39m\u001b[38;5;124m.\u001b[39m\u001b[38;5;124m'\u001b[39m), \u001b[38;5;124m\"\u001b[39m\u001b[38;5;124m../\u001b[39m\u001b[38;5;124m\"\u001b[39m)))\n",
      "\u001b[1;31mModuleNotFoundError\u001b[0m: No module named 'hydra'"
     ]
    }
   ],
   "source": [
    "from os.path import abspath, dirname, join\n",
    "import hydra\n",
    "import sys\n",
    "sys.path.append(abspath(join(dirname('.'), \"../\")))\n",
    "\n",
    "from src.modules.data.dataloader.preprocessed_data_loader import LIDCIDRIPreprocessedKFoldDataLoader\n",
    "from src.modules.data.metadata import LIDCIDRIPreprocessedMetaData\n",
    "from src.modules.utils.paths import PYTHON_PROJECT_DIR_PATH\n",
    "\n",
    "def print_loaded_data_info(k_fold_data_loaders=False, load_mask=False):\n",
    "    space = \"    \" if k_fold_data_loaders else \"\"\n",
    "    print(f\"{space}    Batch index: {batch_index}\")\n",
    "    print(f\"{space}        Data (Lung nodule CT image):\")\n",
    "    print(f\"{space}         - Type: {type(data['input_image']).__name__}\")\n",
    "    print(f\"{space}         - Shape: {data['input_image'].shape}\")\n",
    "    print(f\"{space}         - Min/max values: {data['input_image'].min()}/{data['input_image'].max()}\")\n",
    "    print(f\"{space}        Label (Mean lung nodule malignancy)\")\n",
    "    print(f\"{space}         - Type: {type(label['lnm']['mean']).__name__}\")\n",
    "    print(f\"{space}         - Shape: {label['lnm']['mean'].shape}\")\n",
    "    print(f\"{space}         - Min/max values: {label['lnm']['mean'].min()}/{label['lnm']['mean'].max()}\")\n",
    "    \n",
    "hydra.initialize(config_path='../config', version_base=None)\n",
    "config = hydra.compose(\n",
    "    config_name=\"config\", \n",
    "    overrides=[\n",
    "        \"data/preprocessed/loader=lidc_idri_preprocessed_data_loader_jn_demo\",\n",
    "        \"metadata/preprocessed=lidc_idri_preprocessed_metadata_jn_demo\"\n",
    "    ]\n",
    ")\n",
    "metadata = LIDCIDRIPreprocessedMetaData(config=config.metadata.preprocessed)\n",
    "\n",
    "print(\"\\n------------------------------------ Demonstrating the single-fold data loader ------------------------------------\\n\")\n",
    "dataloader = LIDCIDRIPreprocessedKFoldDataLoader(\n",
    "    config=config.data.preprocessed.loader, \n",
    "    lung_nodule_image_metadataframe=metadata.get_lung_nodule_image_metadataframe()\n",
    ")\n",
    "data_loaders_by_subset = dataloader.get_data_loaders_by_subset()\n",
    "for subset_type in [\"train\", \"validation\", \"test\"]:\n",
    "    print(f\"Subset type: {subset_type.title()}\")\n",
    "    for batch_index, (data, label) in enumerate(iter(data_loaders_by_subset[subset_type]), 1):\n",
    "        print_loaded_data_info()\n",
    "\n",
    "print(\"\\n-------------------------------------- Demonstrating the K-fold data loader ---------------------------------------\\n\")\n",
    "config.data.preprocessed.loader.number_of_k_folds = 5\n",
    "config.data.preprocessed.loader.test_fraction_of_entire_dataset = None\n",
    "dataloader = LIDCIDRIPreprocessedKFoldDataLoader(\n",
    "    config=config.data.preprocessed.loader, \n",
    "    lung_nodule_image_metadataframe=metadata.get_lung_nodule_image_metadataframe()\n",
    ")\n",
    "data_loaders_by_subset = dataloader.get_data_loaders_by_subset()\n",
    "for subset_type in [\"train\", \"validation\", \"test\"]:\n",
    "    print(f\"Subset type: {subset_type.title()}\")\n",
    "    for fold_index in range(config.data.preprocessed.loader.number_of_k_folds):\n",
    "        print(f\"    Fold index: {fold_index + 1}\")\n",
    "        for batch_index, (data, label) in enumerate(iter(data_loaders_by_subset[subset_type][fold_index]), 1):\n",
    "            print_loaded_data_info(k_fold_data_loaders=True)"
   ]
  }
 ],
 "metadata": {
  "kernelspec": {
   "display_name": "Python 3",
   "language": "python",
   "name": "python3"
  },
  "language_info": {
   "codemirror_mode": {
    "name": "ipython",
    "version": 3
   },
   "file_extension": ".py",
   "mimetype": "text/x-python",
   "name": "python",
   "nbconvert_exporter": "python",
   "pygments_lexer": "ipython3",
   "version": "3.10.11"
  }
 },
 "nbformat": 4,
 "nbformat_minor": 5
}
