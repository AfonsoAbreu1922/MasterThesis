{
 "cells": [
  {
   "cell_type": "code",
   "execution_count": null,
   "id": "9c143fdd",
   "metadata": {
    "scrolled": false
   },
   "outputs": [],
   "source": [
    "import numpy as np\n",
    "import matplotlib.pyplot as plt\n",
    "import os\n",
    "import numpy as np\n",
    "from os.path import abspath, dirname, join\n",
    "from tqdm import tqdm\n",
    "\n",
    "data_local_dir_path = f\"{abspath(join(dirname('.'), '../'))}/data/preprocessed/luna25/protocol_1/lung_nodule_bb_numpy_arrays\"\n",
    "data_slurm_dir_path = \"/run/user/1000/gvfs/sftp:host=ctm-login.inesctec.pt,user=emrodrigues/nas-ctm01/datasets/public/medical_datasets/lung_ct_datasets/luna25_challenge/preprocessed_data/protocol_2/lung_nodule_bb_numpy_arrays\"\n",
    "expected_shape = (32, 32)\n",
    "\n",
    "for filename in tqdm(iterable=os.listdir(data_dir_path), total=len(os.listdir(data_dir_path))):\n",
    "    for data_source, data_dir_path in zip([\"local\", \"slurm\"], [data_local_dir_path, data_slurm_dir_path]):\n",
    "        full_path = os.path.join(data_dir_path, filename)\n",
    "        try:\n",
    "            arr = np.load(full_path)\n",
    "            if arr.shape != expected_shape:\n",
    "                print(f\"⚠️ Shape mismatch in {filename} ({data_source}): {arr.shape}\")\n",
    "                arr = np.load(os.path.join(data_local_dir_path, filename))\n",
    "                plt.imshow(arr, cmap='gray')\n",
    "                plt.title(\"Local\")\n",
    "                plt.axis('off')\n",
    "                plt.show()\n",
    "                arr = np.load(os.path.join(data_slurm_dir_path, filename))\n",
    "                plt.imshow(arr, cmap='gray')\n",
    "                plt.title(\"Slurm\")\n",
    "                plt.axis('off')\n",
    "                plt.show()\n",
    "        except Exception as e:\n",
    "            print(f\"❌ Error loading {filename}: {e}\")"
   ]
  }
 ],
 "metadata": {
  "kernelspec": {
   "display_name": "conda_venv",
   "language": "python",
   "name": "conda_venv"
  },
  "language_info": {
   "codemirror_mode": {
    "name": "ipython",
    "version": 3
   },
   "file_extension": ".py",
   "mimetype": "text/x-python",
   "name": "python",
   "nbconvert_exporter": "python",
   "pygments_lexer": "ipython3",
   "version": "3.11.5"
  }
 },
 "nbformat": 4,
 "nbformat_minor": 5
}
